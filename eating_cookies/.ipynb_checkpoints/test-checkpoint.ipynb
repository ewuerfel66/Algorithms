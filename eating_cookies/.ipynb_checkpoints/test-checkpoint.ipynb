{
 "cells": [
  {
   "cell_type": "code",
   "execution_count": 1,
   "metadata": {},
   "outputs": [],
   "source": [
    "cache = {1:1, 2:2, 3:4}"
   ]
  },
  {
   "cell_type": "code",
   "execution_count": 34,
   "metadata": {},
   "outputs": [],
   "source": [
    "def eating_cookies(n, cache=cache):\n",
    "    total_ways = 0\n",
    "    \n",
    "    if n <= 0:\n",
    "        total_ways += 0\n",
    "    \n",
    "    if n in cache:\n",
    "        total_ways += cache[n]\n",
    "    \n",
    "    else:\n",
    "        prior_three = [n-1, n-2, n-3]\n",
    "        for entry in prior_three:\n",
    "            total_ways += eating_cookies(entry)\n",
    "            \n",
    "    cache.update({n:total_ways})\n",
    "            \n",
    "    return total_ways"
   ]
  },
  {
   "cell_type": "code",
   "execution_count": 22,
   "metadata": {},
   "outputs": [],
   "source": [
    "total_ways = 0"
   ]
  },
  {
   "cell_type": "code",
   "execution_count": 38,
   "metadata": {},
   "outputs": [
    {
     "data": {
      "text/plain": [
       "{1: 1, 2: 2, 3: 4, 4: 7}"
      ]
     },
     "execution_count": 38,
     "metadata": {},
     "output_type": "execute_result"
    }
   ],
   "source": [
    "cache.update({4:7})\n",
    "cache"
   ]
  },
  {
   "cell_type": "code",
   "execution_count": 33,
   "metadata": {},
   "outputs": [
    {
     "data": {
      "text/plain": [
       "24"
      ]
     },
     "execution_count": 33,
     "metadata": {},
     "output_type": "execute_result"
    }
   ],
   "source": [
    "eating_cookies(6)"
   ]
  },
  {
   "cell_type": "code",
   "execution_count": 86,
   "metadata": {},
   "outputs": [],
   "source": [
    "bite_sizes = [1, 2, 3]\n",
    "n = 5"
   ]
  },
  {
   "cell_type": "code",
   "execution_count": 104,
   "metadata": {},
   "outputs": [
    {
     "name": "stdout",
     "output_type": "stream",
     "text": [
      "bite: 2, quotient: 2, remainder: 1\n",
      "bite: 2, quotient: 2, remainder: 1\n",
      "3\n",
      "total_ways: 4\n",
      "bite: 3, quotient: 1, remainder: 2\n",
      "3\n",
      "total_ways: 7\n",
      "bite: 3, quotient: 1, remainder: 2\n",
      "bite: 2, quotient: 2, remainder: 1\n",
      "3\n",
      "total_ways: 4\n",
      "bite: 3, quotient: 1, remainder: 2\n",
      "3\n",
      "total_ways: 7\n",
      "4\n"
     ]
    }
   ],
   "source": [
    "# There always one way to eat one at-a-time\n",
    "total_ways = 1\n",
    "\n",
    "for bite in bite_sizes[1:]:\n",
    "    quotient, remainder = n // bite, n % bite\n",
    "    print(f\"bite: {bite}, quotient: {quotient}, remainder: {remainder}\")\n",
    "    \n",
    "    # Remainder under bite\n",
    "    if remainder > 0:\n",
    "        ways = quotient # + eating_cookies(remainder)\n",
    "        total_ways += ways\n",
    "        \n",
    "        # Remove one bite at a time and call recur for each time\n",
    "        for i in range(0, quotient):\n",
    "            new_remainder = n - i*bite\n",
    "            # print(f\"new: {new_remainder}\")\n",
    "            ways += eating_cookies(new_remainder)\n",
    "            \n",
    "print(total_ways)"
   ]
  },
  {
   "cell_type": "code",
   "execution_count": 96,
   "metadata": {},
   "outputs": [
    {
     "name": "stdout",
     "output_type": "stream",
     "text": [
      "bite: 2, quotient: 2, remainder: 1\n",
      "3\n",
      "new: 5\n",
      "bite: 2, quotient: 2, remainder: 1\n",
      "3\n",
      "total_ways: 4\n",
      "bite: 3, quotient: 1, remainder: 2\n",
      "3\n",
      "total_ways: 7\n",
      "new: 3\n",
      "total_ways: 4\n",
      "bite: 3, quotient: 1, remainder: 2\n",
      "3\n",
      "new: 5\n",
      "bite: 2, quotient: 2, remainder: 1\n",
      "3\n",
      "total_ways: 4\n",
      "bite: 3, quotient: 1, remainder: 2\n",
      "3\n",
      "total_ways: 7\n",
      "total_ways: 7\n"
     ]
    }
   ],
   "source": [
    "# There always one way to eat one at-a-time\n",
    "total_ways = 1\n",
    "\n",
    "for bite in bite_sizes[1:]:\n",
    "    quotient, remainder = n // bite, n % bite\n",
    "    print(f\"bite: {bite}, quotient: {quotient}, remainder: {remainder}\")\n",
    "\n",
    "    # No remainder, all of bite\n",
    "    if remainder == 0:\n",
    "        ways = 1\n",
    "\n",
    "        # Remove one bite at a time and call recur for each time\n",
    "        for i in range(1, quotient):\n",
    "            new_remainder = n - i*bite\n",
    "            print(f\"new: {new_remainder}\")\n",
    "            ways += eating_cookies(new_remainder)\n",
    "\n",
    "        total_ways += ways\n",
    "\n",
    "    # Remainder under bite\n",
    "    elif remainder > 0:\n",
    "        ways = quotient + eating_cookies(remainder)\n",
    "        print(ways)\n",
    "        total_ways += ways\n",
    "        \n",
    "        # Remove one bite at a time and call recur for each time\n",
    "        for i in range(0, quotient):\n",
    "            new_remainder = n - i*bite\n",
    "            print(f\"new: {new_remainder}\")\n",
    "            ways += eating_cookies(new_remainder)\n",
    "\n",
    "    print(f\"total_ways: {total_ways}\")"
   ]
  },
  {
   "cell_type": "code",
   "execution_count": 91,
   "metadata": {},
   "outputs": [],
   "source": [
    "for i in range(1, quotient-1):\n",
    "    print(i)"
   ]
  },
  {
   "cell_type": "code",
   "execution_count": null,
   "metadata": {},
   "outputs": [],
   "source": []
  }
 ],
 "metadata": {
  "kernelspec": {
   "display_name": "Python 3",
   "language": "python",
   "name": "python3"
  },
  "language_info": {
   "codemirror_mode": {
    "name": "ipython",
    "version": 3
   },
   "file_extension": ".py",
   "mimetype": "text/x-python",
   "name": "python",
   "nbconvert_exporter": "python",
   "pygments_lexer": "ipython3",
   "version": "3.7.3"
  }
 },
 "nbformat": 4,
 "nbformat_minor": 2
}
